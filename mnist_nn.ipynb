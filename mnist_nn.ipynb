{
 "cells": [
  {
   "cell_type": "markdown",
   "metadata": {},
   "source": [
    "# Multi-Layer Perceptron, MNIST\n",
    "---\n",
    "In this notebook, we will train an MLP to classify images from the [MNIST database](http://yann.lecun.com/exdb/mnist/) hand-written digit database.\n",
    "\n",
    "The process will be broken down into the following steps:\n",
    ">1. Load and visualize the data\n",
    "2. Define a neural network\n",
    "3. Train the model\n",
    "4. Evaluate the performance of our trained model on a test dataset!\n",
    "\n",
    "Before we begin, we have to import the necessary libraries for working with data and PyTorch."
   ]
  },
  {
   "cell_type": "code",
   "execution_count": 1,
   "metadata": {},
   "outputs": [
    {
     "data": {
      "application/javascript": [
       "\n",
       "            setTimeout(function() {\n",
       "                var nbb_cell_id = 1;\n",
       "                var nbb_unformatted_code = \"# import libraries\\nimport torch\\nimport numpy as np\\n\\n%load_ext nb_black\";\n",
       "                var nbb_formatted_code = \"# import libraries\\nimport torch\\nimport numpy as np\\n\\n%load_ext nb_black\";\n",
       "                var nbb_cells = Jupyter.notebook.get_cells();\n",
       "                for (var i = 0; i < nbb_cells.length; ++i) {\n",
       "                    if (nbb_cells[i].input_prompt_number == nbb_cell_id) {\n",
       "                        if (nbb_cells[i].get_text() == nbb_unformatted_code) {\n",
       "                             nbb_cells[i].set_text(nbb_formatted_code);\n",
       "                        }\n",
       "                        break;\n",
       "                    }\n",
       "                }\n",
       "            }, 500);\n",
       "            "
      ],
      "text/plain": [
       "<IPython.core.display.Javascript object>"
      ]
     },
     "metadata": {},
     "output_type": "display_data"
    }
   ],
   "source": [
    "# import libraries\n",
    "import torch\n",
    "import numpy as np\n",
    "\n",
    "%load_ext nb_black"
   ]
  },
  {
   "cell_type": "markdown",
   "metadata": {},
   "source": [
    "---\n",
    "## Load and Visualize the [Data](http://pytorch.org/docs/stable/torchvision/datasets.html)\n",
    "\n",
    "Downloading may take a few moments, and you should see your progress as the data is loading. You may also choose to change the `batch_size` if you want to load more data at a time.\n",
    "\n",
    "This cell will create DataLoaders for each of our datasets."
   ]
  },
  {
   "cell_type": "code",
   "execution_count": 2,
   "metadata": {},
   "outputs": [
    {
     "data": {
      "application/javascript": [
       "\n",
       "            setTimeout(function() {\n",
       "                var nbb_cell_id = 2;\n",
       "                var nbb_unformatted_code = \"from torchvision import datasets\\nimport torchvision.transforms as transforms\\nfrom torch.utils.data.sampler import SubsetRandomSampler\\n\\n# number of subprocesses to use for data loading\\nnum_workers = 0\\n# how many samples per batch to load\\nbatch_size = 32\\n# percentage of training set to use as validation\\nvalid_size = 0.2\\n\\n# convert data to torch.FloatTensor\\ntransform = transforms.ToTensor()\\n\\n# choose the training and test datasets\\ntrain_data = datasets.MNIST(\\n    root=\\\"~/.pytorch/MNIST_data\\\", train=True, download=True, transform=transform\\n)\\ntest_data = datasets.MNIST(\\n    root=\\\"~/.pytorch/MNIST_data\\\", train=False, download=True, transform=transform\\n)\\n\\n# obtain training indices that will be used for validation\\nnum_train = len(train_data)\\nindices = list(range(num_train))\\nnp.random.shuffle(indices)\\nsplit = int(np.floor(valid_size * num_train))\\ntrain_idx, valid_idx = indices[split:], indices[:split]\\n\\n# define samplers for obtaining training and validation batches\\ntrain_sampler = SubsetRandomSampler(train_idx)\\nvalid_sampler = SubsetRandomSampler(valid_idx)\\n\\n# prepare data loaders\\ntrain_loader = torch.utils.data.DataLoader(\\n    train_data, batch_size=batch_size, sampler=train_sampler, num_workers=num_workers\\n)\\nvalid_loader = torch.utils.data.DataLoader(\\n    train_data, batch_size=batch_size, sampler=valid_sampler, num_workers=num_workers\\n)\\ntest_loader = torch.utils.data.DataLoader(\\n    test_data, batch_size=batch_size, num_workers=num_workers\\n)\";\n",
       "                var nbb_formatted_code = \"from torchvision import datasets\\nimport torchvision.transforms as transforms\\nfrom torch.utils.data.sampler import SubsetRandomSampler\\n\\n# number of subprocesses to use for data loading\\nnum_workers = 0\\n# how many samples per batch to load\\nbatch_size = 32\\n# percentage of training set to use as validation\\nvalid_size = 0.2\\n\\n# convert data to torch.FloatTensor\\ntransform = transforms.ToTensor()\\n\\n# choose the training and test datasets\\ntrain_data = datasets.MNIST(\\n    root=\\\"~/.pytorch/MNIST_data\\\", train=True, download=True, transform=transform\\n)\\ntest_data = datasets.MNIST(\\n    root=\\\"~/.pytorch/MNIST_data\\\", train=False, download=True, transform=transform\\n)\\n\\n# obtain training indices that will be used for validation\\nnum_train = len(train_data)\\nindices = list(range(num_train))\\nnp.random.shuffle(indices)\\nsplit = int(np.floor(valid_size * num_train))\\ntrain_idx, valid_idx = indices[split:], indices[:split]\\n\\n# define samplers for obtaining training and validation batches\\ntrain_sampler = SubsetRandomSampler(train_idx)\\nvalid_sampler = SubsetRandomSampler(valid_idx)\\n\\n# prepare data loaders\\ntrain_loader = torch.utils.data.DataLoader(\\n    train_data, batch_size=batch_size, sampler=train_sampler, num_workers=num_workers\\n)\\nvalid_loader = torch.utils.data.DataLoader(\\n    train_data, batch_size=batch_size, sampler=valid_sampler, num_workers=num_workers\\n)\\ntest_loader = torch.utils.data.DataLoader(\\n    test_data, batch_size=batch_size, num_workers=num_workers\\n)\";\n",
       "                var nbb_cells = Jupyter.notebook.get_cells();\n",
       "                for (var i = 0; i < nbb_cells.length; ++i) {\n",
       "                    if (nbb_cells[i].input_prompt_number == nbb_cell_id) {\n",
       "                        if (nbb_cells[i].get_text() == nbb_unformatted_code) {\n",
       "                             nbb_cells[i].set_text(nbb_formatted_code);\n",
       "                        }\n",
       "                        break;\n",
       "                    }\n",
       "                }\n",
       "            }, 500);\n",
       "            "
      ],
      "text/plain": [
       "<IPython.core.display.Javascript object>"
      ]
     },
     "metadata": {},
     "output_type": "display_data"
    }
   ],
   "source": [
    "from torchvision import datasets\n",
    "import torchvision.transforms as transforms\n",
    "from torch.utils.data.sampler import SubsetRandomSampler\n",
    "\n",
    "# number of subprocesses to use for data loading\n",
    "num_workers = 0\n",
    "# how many samples per batch to load\n",
    "batch_size = 32\n",
    "# percentage of training set to use as validation\n",
    "valid_size = 0.2\n",
    "\n",
    "# convert data to torch.FloatTensor\n",
    "transform = transforms.ToTensor()\n",
    "\n",
    "# choose the training and test datasets\n",
    "train_data = datasets.MNIST(\n",
    "    root=\"~/.pytorch/MNIST_data\", train=True, download=True, transform=transform\n",
    ")\n",
    "test_data = datasets.MNIST(\n",
    "    root=\"~/.pytorch/MNIST_data\", train=False, download=True, transform=transform\n",
    ")\n",
    "\n",
    "# obtain training indices that will be used for validation\n",
    "num_train = len(train_data)\n",
    "indices = list(range(num_train))\n",
    "np.random.shuffle(indices)\n",
    "split = int(np.floor(valid_size * num_train))\n",
    "train_idx, valid_idx = indices[split:], indices[:split]\n",
    "\n",
    "# define samplers for obtaining training and validation batches\n",
    "train_sampler = SubsetRandomSampler(train_idx)\n",
    "valid_sampler = SubsetRandomSampler(valid_idx)\n",
    "\n",
    "# prepare data loaders\n",
    "train_loader = torch.utils.data.DataLoader(\n",
    "    train_data, batch_size=batch_size, sampler=train_sampler, num_workers=num_workers\n",
    ")\n",
    "valid_loader = torch.utils.data.DataLoader(\n",
    "    train_data, batch_size=batch_size, sampler=valid_sampler, num_workers=num_workers\n",
    ")\n",
    "test_loader = torch.utils.data.DataLoader(\n",
    "    test_data, batch_size=batch_size, num_workers=num_workers\n",
    ")"
   ]
  },
  {
   "cell_type": "markdown",
   "metadata": {},
   "source": [
    "### Visualize a Batch of Training Data\n",
    "\n",
    "The first step in a classification task is to take a look at the data, make sure it is loaded in correctly, then make any initial observations about patterns in that data."
   ]
  },
  {
   "cell_type": "code",
   "execution_count": 3,
   "metadata": {},
   "outputs": [
    {
     "name": "stdout",
     "output_type": "stream",
     "text": [
      "torch.Size([32, 1, 28, 28]) torch.Size([32])\n"
     ]
    },
    {
     "data": {
      "text/plain": [
       "<matplotlib.image.AxesImage at 0x12b8f6950>"
      ]
     },
     "execution_count": 3,
     "metadata": {},
     "output_type": "execute_result"
    },
    {
     "data": {
      "image/png": "[encoded data removed]",
      "text/plain": [
       "<Figure size 432x288 with 1 Axes>"
      ]
     },
     "metadata": {
      "needs_background": "light"
     },
     "output_type": "display_data"
    },
    {
     "data": {
      "application/javascript": [
       "\n",
       "            setTimeout(function() {\n",
       "                var nbb_cell_id = 3;\n",
       "                var nbb_unformatted_code = \"import matplotlib.pyplot as plt\\n\\n%matplotlib inline\\n\\ndata_iter = iter(train_loader)\\nimages, labels = next(data_iter)\\nprint(images.shape, labels.shape)\\n\\nrandint = np.random.randint(images.shape[0])\\nimage = images[randint][0]\\nplt.title(labels[randint].item())\\nplt.imshow(image, cmap=\\\"gray\\\")\";\n",
       "                var nbb_formatted_code = \"import matplotlib.pyplot as plt\\n\\n%matplotlib inline\\n\\ndata_iter = iter(train_loader)\\nimages, labels = next(data_iter)\\nprint(images.shape, labels.shape)\\n\\nrandint = np.random.randint(images.shape[0])\\nimage = images[randint][0]\\nplt.title(labels[randint].item())\\nplt.imshow(image, cmap=\\\"gray\\\")\";\n",
       "                var nbb_cells = Jupyter.notebook.get_cells();\n",
       "                for (var i = 0; i < nbb_cells.length; ++i) {\n",
       "                    if (nbb_cells[i].input_prompt_number == nbb_cell_id) {\n",
       "                        if (nbb_cells[i].get_text() == nbb_unformatted_code) {\n",
       "                             nbb_cells[i].set_text(nbb_formatted_code);\n",
       "                        }\n",
       "                        break;\n",
       "                    }\n",
       "                }\n",
       "            }, 500);\n",
       "            "
      ],
      "text/plain": [
       "<IPython.core.display.Javascript object>"
      ]
     },
     "metadata": {},
     "output_type": "display_data"
    }
   ],
   "source": [
    "import matplotlib.pyplot as plt\n",
    "%matplotlib inline\n",
    "\n",
    "data_iter = iter(train_loader)\n",
    "images, labels = next(data_iter)\n",
    "print(images.shape, labels.shape)\n",
    "\n",
    "randint = np.random.randint(images.shape[0])\n",
    "image = images[randint][0]\n",
    "plt.title(labels[randint].item())\n",
    "plt.imshow(image, cmap=\"gray\")"
   ]
  },
  {
   "cell_type": "code",
   "execution_count": 4,
   "metadata": {},
   "outputs": [
    {
     "data": {
      "text/plain": [
       "[]"
      ]
     },
     "execution_count": 4,
     "metadata": {},
     "output_type": "execute_result"
    },
    {
     "data": {
      "image/png": "[encoded data removed]",
      "text/plain": [
       "<Figure size 432x288 with 6 Axes>"
      ]
     },
     "metadata": {
      "needs_background": "light"
     },
     "output_type": "display_data"
    },
    {
     "data": {
      "application/javascript": [
       "\n",
       "            setTimeout(function() {\n",
       "                var nbb_cell_id = 4;\n",
       "                var nbb_unformatted_code = \"import matplotlib.pyplot as plt\\n\\n%matplotlib inline\\n\\nfor i in range(6):\\n    plt.subplot(2, 3, i + 1)  # plt.subplot(rows, cols, index)\\n    plt.imshow(images[i][0], cmap=\\\"gray\\\")\\n    plt.title(labels[i].item())\\nplt.plot()\";\n",
       "                var nbb_formatted_code = \"import matplotlib.pyplot as plt\\n\\n%matplotlib inline\\n\\nfor i in range(6):\\n    plt.subplot(2, 3, i + 1)  # plt.subplot(rows, cols, index)\\n    plt.imshow(images[i][0], cmap=\\\"gray\\\")\\n    plt.title(labels[i].item())\\nplt.plot()\";\n",
       "                var nbb_cells = Jupyter.notebook.get_cells();\n",
       "                for (var i = 0; i < nbb_cells.length; ++i) {\n",
       "                    if (nbb_cells[i].input_prompt_number == nbb_cell_id) {\n",
       "                        if (nbb_cells[i].get_text() == nbb_unformatted_code) {\n",
       "                             nbb_cells[i].set_text(nbb_formatted_code);\n",
       "                        }\n",
       "                        break;\n",
       "                    }\n",
       "                }\n",
       "            }, 500);\n",
       "            "
      ],
      "text/plain": [
       "<IPython.core.display.Javascript object>"
      ]
     },
     "metadata": {},
     "output_type": "display_data"
    }
   ],
   "source": [
    "import matplotlib.pyplot as plt\n",
    "\n",
    "%matplotlib inline\n",
    "\n",
    "for i in range(6):\n",
    "    plt.subplot(2, 3, i + 1)  # plt.subplot(rows, cols, index)\n",
    "    plt.imshow(images[i][0], cmap=\"gray\")\n",
    "    plt.title(labels[i].item())\n",
    "plt.plot()"
   ]
  },
  {
   "cell_type": "markdown",
   "metadata": {},
   "source": [
    "---\n",
    "## Define the Network [Architecture](http://pytorch.org/docs/stable/nn.html)\n",
    "\n",
    "The architecture will be responsible for seeing as input a 784-dim Tensor of pixel values for each image, and producing a Tensor of length 10 (our number of classes) that indicates the class scores for an input image. This particular example uses two hidden layers and dropout to avoid overfitting."
   ]
  },
  {
   "cell_type": "code",
   "execution_count": 5,
   "metadata": {},
   "outputs": [
    {
     "name": "stdout",
     "output_type": "stream",
     "text": [
      "Net(\n",
      "  (fc1): Linear(in_features=784, out_features=512, bias=True)\n",
      "  (fc2): Linear(in_features=512, out_features=512, bias=True)\n",
      "  (fc3): Linear(in_features=512, out_features=10, bias=True)\n",
      "  (dropout): Dropout(p=0.2, inplace=False)\n",
      ")\n"
     ]
    },
    {
     "data": {
      "application/javascript": [
       "\n",
       "            setTimeout(function() {\n",
       "                var nbb_cell_id = 5;\n",
       "                var nbb_unformatted_code = \"import torch.nn as nn\\nimport torch.nn.functional as F\\n\\n# define the NN architecture\\nclass Net(nn.Module):\\n    def __init__(self):\\n        super(Net, self).__init__()\\n        # number of hidden nodes in each layer (512)\\n        hidden_1 = 512\\n        hidden_2 = 512\\n        # linear layer (784 -> hidden_1)\\n        self.fc1 = nn.Linear(28 * 28, hidden_1)\\n        # linear layer (n_hidden -> hidden_2)\\n        self.fc2 = nn.Linear(hidden_1, hidden_2)\\n        # linear layer (n_hidden -> 10)\\n        self.fc3 = nn.Linear(hidden_2, 10)\\n        # dropout layer (p=0.2)\\n        # dropout prevents overfitting of data\\n        self.dropout = nn.Dropout(0.2)\\n\\n    def forward(self, x):\\n        # flatten image input\\n        x = x.view(-1, 28 * 28)\\n        # add hidden layer, with relu activation function\\n        x = F.relu(self.fc1(x))\\n        # add dropout layer\\n        x = self.dropout(x)\\n        # add hidden layer, with relu activation function\\n        x = F.relu(self.fc2(x))\\n        # add dropout layer\\n        x = self.dropout(x)\\n        # add output layer\\n        x = self.fc3(x)\\n        return x\\n\\n\\n# initialize the NN\\nmodel = Net()\\nprint(model)\";\n",
       "                var nbb_formatted_code = \"import torch.nn as nn\\nimport torch.nn.functional as F\\n\\n# define the NN architecture\\nclass Net(nn.Module):\\n    def __init__(self):\\n        super(Net, self).__init__()\\n        # number of hidden nodes in each layer (512)\\n        hidden_1 = 512\\n        hidden_2 = 512\\n        # linear layer (784 -> hidden_1)\\n        self.fc1 = nn.Linear(28 * 28, hidden_1)\\n        # linear layer (n_hidden -> hidden_2)\\n        self.fc2 = nn.Linear(hidden_1, hidden_2)\\n        # linear layer (n_hidden -> 10)\\n        self.fc3 = nn.Linear(hidden_2, 10)\\n        # dropout layer (p=0.2)\\n        # dropout prevents overfitting of data\\n        self.dropout = nn.Dropout(0.2)\\n\\n    def forward(self, x):\\n        # flatten image input\\n        x = x.view(-1, 28 * 28)\\n        # add hidden layer, with relu activation function\\n        x = F.relu(self.fc1(x))\\n        # add dropout layer\\n        x = self.dropout(x)\\n        # add hidden layer, with relu activation function\\n        x = F.relu(self.fc2(x))\\n        # add dropout layer\\n        x = self.dropout(x)\\n        # add output layer\\n        x = self.fc3(x)\\n        return x\\n\\n\\n# initialize the NN\\nmodel = Net()\\nprint(model)\";\n",
       "                var nbb_cells = Jupyter.notebook.get_cells();\n",
       "                for (var i = 0; i < nbb_cells.length; ++i) {\n",
       "                    if (nbb_cells[i].input_prompt_number == nbb_cell_id) {\n",
       "                        if (nbb_cells[i].get_text() == nbb_unformatted_code) {\n",
       "                             nbb_cells[i].set_text(nbb_formatted_code);\n",
       "                        }\n",
       "                        break;\n",
       "                    }\n",
       "                }\n",
       "            }, 500);\n",
       "            "
      ],
      "text/plain": [
       "<IPython.core.display.Javascript object>"
      ]
     },
     "metadata": {},
     "output_type": "display_data"
    }
   ],
   "source": [
    "import torch.nn as nn\n",
    "import torch.nn.functional as F\n",
    "\n",
    "# define the NN architecture\n",
    "class Net(nn.Module):\n",
    "    def __init__(self):\n",
    "        super(Net, self).__init__()\n",
    "        # number of hidden nodes in each layer (512)\n",
    "        hidden_1 = 512\n",
    "        hidden_2 = 512\n",
    "        # linear layer (784 -> hidden_1)\n",
    "        self.fc1 = nn.Linear(28 * 28, hidden_1)\n",
    "        # linear layer (n_hidden -> hidden_2)\n",
    "        self.fc2 = nn.Linear(hidden_1, hidden_2)\n",
    "        # linear layer (n_hidden -> 10)\n",
    "        self.fc3 = nn.Linear(hidden_2, 10)\n",
    "        # dropout layer (p=0.2)\n",
    "        # dropout prevents overfitting of data\n",
    "        self.dropout = nn.Dropout(0.2)\n",
    "\n",
    "    def forward(self, x):\n",
    "        # flatten image input\n",
    "        x = x.view(-1, 28 * 28)\n",
    "        # add hidden layer, with relu activation function\n",
    "        x = F.relu(self.fc1(x))\n",
    "        # add dropout layer\n",
    "        x = self.dropout(x)\n",
    "        # add hidden layer, with relu activation function\n",
    "        x = F.relu(self.fc2(x))\n",
    "        # add dropout layer\n",
    "        x = self.dropout(x)\n",
    "        # add output layer\n",
    "        x = self.fc3(x)\n",
    "        return x\n",
    "\n",
    "\n",
    "# initialize the NN\n",
    "model = Net()\n",
    "print(model)"
   ]
  },
  {
   "cell_type": "markdown",
   "metadata": {},
   "source": [
    "###  Specify [Loss Function](http://pytorch.org/docs/stable/nn.html#loss-functions) and [Optimizer](http://pytorch.org/docs/stable/optim.html)\n",
    "\n",
    "It's recommended that you use cross-entropy loss for classification. If you look at the documentation (linked above), you can see that PyTorch's cross entropy function applies a softmax funtion to the output layer *and* then calculates the log loss."
   ]
  },
  {
   "cell_type": "code",
   "execution_count": 6,
   "metadata": {},
   "outputs": [
    {
     "data": {
      "application/javascript": [
       "\n",
       "            setTimeout(function() {\n",
       "                var nbb_cell_id = 6;\n",
       "                var nbb_unformatted_code = \"# specify loss function (categorical cross-entropy)\\ncriterion = nn.CrossEntropyLoss()\\n\\n# specify optimizer (stochastic gradient descent) and learning rate = 0.01\\noptimizer = torch.optim.SGD(model.parameters(), lr=0.01)\";\n",
       "                var nbb_formatted_code = \"# specify loss function (categorical cross-entropy)\\ncriterion = nn.CrossEntropyLoss()\\n\\n# specify optimizer (stochastic gradient descent) and learning rate = 0.01\\noptimizer = torch.optim.SGD(model.parameters(), lr=0.01)\";\n",
       "                var nbb_cells = Jupyter.notebook.get_cells();\n",
       "                for (var i = 0; i < nbb_cells.length; ++i) {\n",
       "                    if (nbb_cells[i].input_prompt_number == nbb_cell_id) {\n",
       "                        if (nbb_cells[i].get_text() == nbb_unformatted_code) {\n",
       "                             nbb_cells[i].set_text(nbb_formatted_code);\n",
       "                        }\n",
       "                        break;\n",
       "                    }\n",
       "                }\n",
       "            }, 500);\n",
       "            "
      ],
      "text/plain": [
       "<IPython.core.display.Javascript object>"
      ]
     },
     "metadata": {},
     "output_type": "display_data"
    }
   ],
   "source": [
    "# specify loss function (categorical cross-entropy)\n",
    "criterion = nn.CrossEntropyLoss()\n",
    "\n",
    "# specify optimizer (stochastic gradient descent) and learning rate = 0.01\n",
    "optimizer = torch.optim.SGD(model.parameters(), lr=0.01)"
   ]
  },
  {
   "cell_type": "markdown",
   "metadata": {},
   "source": [
    "---\n",
    "## Train the Network\n",
    "\n",
    "The steps for training/learning from a batch of data are described in the comments below:\n",
    "1. Clear the gradients of all optimized variables\n",
    "2. Forward pass: compute predicted outputs by passing inputs to the model\n",
    "3. Calculate the loss\n",
    "4. Backward pass: compute gradient of the loss with respect to model parameters\n",
    "5. Perform a single optimization step (parameter update)\n",
    "6. Update average training loss\n",
    "\n",
    "The following loop trains for 50 epochs; take a look at how the values for the training loss decrease over time. We want it to decrease while also avoiding overfitting the training data."
   ]
  },
  {
   "cell_type": "code",
   "execution_count": 7,
   "metadata": {},
   "outputs": [
    {
     "name": "stdout",
     "output_type": "stream",
     "text": [
      "Epoch: 1 \tTraining Loss: 0.990456 \tValidation Loss: 0.094441\n",
      "Validation loss decreased (inf --> 0.094441).  Saving model ...\n",
      "Epoch: 2 \tTraining Loss: 0.351707 \tValidation Loss: 0.068519\n",
      "Validation loss decreased (0.094441 --> 0.068519).  Saving model ...\n",
      "Epoch: 3 \tTraining Loss: 0.281818 \tValidation Loss: 0.057418\n",
      "Validation loss decreased (0.068519 --> 0.057418).  Saving model ...\n",
      "Epoch: 4 \tTraining Loss: 0.244590 \tValidation Loss: 0.051037\n",
      "Validation loss decreased (0.057418 --> 0.051037).  Saving model ...\n",
      "Epoch: 5 \tTraining Loss: 0.216025 \tValidation Loss: 0.044189\n",
      "Validation loss decreased (0.051037 --> 0.044189).  Saving model ...\n",
      "Epoch: 6 \tTraining Loss: 0.191777 \tValidation Loss: 0.039443\n",
      "Validation loss decreased (0.044189 --> 0.039443).  Saving model ...\n",
      "Epoch: 7 \tTraining Loss: 0.172042 \tValidation Loss: 0.035849\n",
      "Validation loss decreased (0.039443 --> 0.035849).  Saving model ...\n",
      "Epoch: 8 \tTraining Loss: 0.154687 \tValidation Loss: 0.032689\n",
      "Validation loss decreased (0.035849 --> 0.032689).  Saving model ...\n",
      "Epoch: 9 \tTraining Loss: 0.140496 \tValidation Loss: 0.030196\n",
      "Validation loss decreased (0.032689 --> 0.030196).  Saving model ...\n",
      "Epoch: 10 \tTraining Loss: 0.129668 \tValidation Loss: 0.027897\n",
      "Validation loss decreased (0.030196 --> 0.027897).  Saving model ...\n",
      "Epoch: 11 \tTraining Loss: 0.120477 \tValidation Loss: 0.026339\n",
      "Validation loss decreased (0.027897 --> 0.026339).  Saving model ...\n",
      "Epoch: 12 \tTraining Loss: 0.111245 \tValidation Loss: 0.024516\n",
      "Validation loss decreased (0.026339 --> 0.024516).  Saving model ...\n",
      "Epoch: 13 \tTraining Loss: 0.104672 \tValidation Loss: 0.023350\n",
      "Validation loss decreased (0.024516 --> 0.023350).  Saving model ...\n",
      "Epoch: 14 \tTraining Loss: 0.096470 \tValidation Loss: 0.022208\n",
      "Validation loss decreased (0.023350 --> 0.022208).  Saving model ...\n",
      "Epoch: 15 \tTraining Loss: 0.090779 \tValidation Loss: 0.021329\n",
      "Validation loss decreased (0.022208 --> 0.021329).  Saving model ...\n",
      "Epoch: 16 \tTraining Loss: 0.085472 \tValidation Loss: 0.020634\n",
      "Validation loss decreased (0.021329 --> 0.020634).  Saving model ...\n",
      "Epoch: 17 \tTraining Loss: 0.081630 \tValidation Loss: 0.019866\n",
      "Validation loss decreased (0.020634 --> 0.019866).  Saving model ...\n",
      "Epoch: 18 \tTraining Loss: 0.076846 \tValidation Loss: 0.019113\n",
      "Validation loss decreased (0.019866 --> 0.019113).  Saving model ...\n",
      "Epoch: 19 \tTraining Loss: 0.073679 \tValidation Loss: 0.018478\n",
      "Validation loss decreased (0.019113 --> 0.018478).  Saving model ...\n",
      "Epoch: 20 \tTraining Loss: 0.069489 \tValidation Loss: 0.017902\n",
      "Validation loss decreased (0.018478 --> 0.017902).  Saving model ...\n",
      "Epoch: 21 \tTraining Loss: 0.064996 \tValidation Loss: 0.017407\n",
      "Validation loss decreased (0.017902 --> 0.017407).  Saving model ...\n",
      "Epoch: 22 \tTraining Loss: 0.063137 \tValidation Loss: 0.017046\n",
      "Validation loss decreased (0.017407 --> 0.017046).  Saving model ...\n",
      "Epoch: 23 \tTraining Loss: 0.060065 \tValidation Loss: 0.016824\n",
      "Validation loss decreased (0.017046 --> 0.016824).  Saving model ...\n",
      "Epoch: 24 \tTraining Loss: 0.056653 \tValidation Loss: 0.016290\n",
      "Validation loss decreased (0.016824 --> 0.016290).  Saving model ...\n",
      "Epoch: 25 \tTraining Loss: 0.054518 \tValidation Loss: 0.016191\n",
      "Validation loss decreased (0.016290 --> 0.016191).  Saving model ...\n",
      "Epoch: 26 \tTraining Loss: 0.052141 \tValidation Loss: 0.015626\n",
      "Validation loss decreased (0.016191 --> 0.015626).  Saving model ...\n",
      "Epoch: 27 \tTraining Loss: 0.050197 \tValidation Loss: 0.015395\n",
      "Validation loss decreased (0.015626 --> 0.015395).  Saving model ...\n",
      "Epoch: 28 \tTraining Loss: 0.048383 \tValidation Loss: 0.015077\n",
      "Validation loss decreased (0.015395 --> 0.015077).  Saving model ...\n",
      "Epoch: 29 \tTraining Loss: 0.045921 \tValidation Loss: 0.014904\n",
      "Validation loss decreased (0.015077 --> 0.014904).  Saving model ...\n",
      "Epoch: 30 \tTraining Loss: 0.043162 \tValidation Loss: 0.014713\n",
      "Validation loss decreased (0.014904 --> 0.014713).  Saving model ...\n",
      "Epoch: 31 \tTraining Loss: 0.042895 \tValidation Loss: 0.014451\n",
      "Validation loss decreased (0.014713 --> 0.014451).  Saving model ...\n",
      "Epoch: 32 \tTraining Loss: 0.040973 \tValidation Loss: 0.014302\n",
      "Validation loss decreased (0.014451 --> 0.014302).  Saving model ...\n",
      "Epoch: 33 \tTraining Loss: 0.039788 \tValidation Loss: 0.014105\n",
      "Validation loss decreased (0.014302 --> 0.014105).  Saving model ...\n",
      "Epoch: 34 \tTraining Loss: 0.037806 \tValidation Loss: 0.013945\n",
      "Validation loss decreased (0.014105 --> 0.013945).  Saving model ...\n",
      "Epoch: 35 \tTraining Loss: 0.036973 \tValidation Loss: 0.013781\n",
      "Validation loss decreased (0.013945 --> 0.013781).  Saving model ...\n",
      "Epoch: 36 \tTraining Loss: 0.035464 \tValidation Loss: 0.013512\n",
      "Validation loss decreased (0.013781 --> 0.013512).  Saving model ...\n",
      "Epoch: 37 \tTraining Loss: 0.033756 \tValidation Loss: 0.013522\n",
      "Epoch: 38 \tTraining Loss: 0.032412 \tValidation Loss: 0.013383\n",
      "Validation loss decreased (0.013512 --> 0.013383).  Saving model ...\n",
      "Epoch: 39 \tTraining Loss: 0.031935 \tValidation Loss: 0.013191\n",
      "Validation loss decreased (0.013383 --> 0.013191).  Saving model ...\n",
      "Epoch: 40 \tTraining Loss: 0.030577 \tValidation Loss: 0.013469\n",
      "Epoch: 41 \tTraining Loss: 0.029982 \tValidation Loss: 0.013052\n",
      "Validation loss decreased (0.013191 --> 0.013052).  Saving model ...\n",
      "Epoch: 42 \tTraining Loss: 0.028745 \tValidation Loss: 0.013116\n",
      "Epoch: 43 \tTraining Loss: 0.028171 \tValidation Loss: 0.012962\n",
      "Validation loss decreased (0.013052 --> 0.012962).  Saving model ...\n",
      "Epoch: 44 \tTraining Loss: 0.026606 \tValidation Loss: 0.013104\n",
      "Epoch: 45 \tTraining Loss: 0.025743 \tValidation Loss: 0.012883\n",
      "Validation loss decreased (0.012962 --> 0.012883).  Saving model ...\n",
      "Epoch: 46 \tTraining Loss: 0.024130 \tValidation Loss: 0.012817\n",
      "Validation loss decreased (0.012883 --> 0.012817).  Saving model ...\n",
      "Epoch: 47 \tTraining Loss: 0.023938 \tValidation Loss: 0.012623\n",
      "Validation loss decreased (0.012817 --> 0.012623).  Saving model ...\n",
      "Epoch: 48 \tTraining Loss: 0.023360 \tValidation Loss: 0.012574\n",
      "Validation loss decreased (0.012623 --> 0.012574).  Saving model ...\n",
      "Epoch: 49 \tTraining Loss: 0.022442 \tValidation Loss: 0.012615\n",
      "Epoch: 50 \tTraining Loss: 0.021583 \tValidation Loss: 0.012581\n"
     ]
    },
    {
     "data": {
      "application/javascript": [
       "\n",
       "            setTimeout(function() {\n",
       "                var nbb_cell_id = 7;\n",
       "                var nbb_unformatted_code = \"# number of epochs to train the model\\nn_epochs = 50\\n\\n# initialize tracker for minimum validation loss\\nvalid_loss_min = np.Inf  # set initial \\\"min\\\" to infinity\\ntraining_loss, validation_loss = [], []\\nfor epoch in range(n_epochs):\\n    # monitor training loss\\n    train_loss = 0.0\\n    valid_loss = 0.0\\n\\n    ###################\\n    # train the model #\\n    ###################\\n    model.train()  # prep model for training\\n    for data, target in train_loader:\\n        # clear the gradients of all optimized variables\\n        optimizer.zero_grad()\\n        # forward pass: compute predicted outputs by passing inputs to the model\\n        output = model(data)\\n        # calculate the loss\\n        loss = criterion(output, target)\\n        # backward pass: compute gradient of the loss with respect to model parameters\\n        loss.backward()\\n        # perform a single optimization step (parameter update)\\n        optimizer.step()\\n        # update running training loss\\n        train_loss += loss.item() * data.size(0)\\n\\n    ######################\\n    # validate the model #\\n    ######################\\n    model.eval()  # prep model for evaluation\\n    for data, target in valid_loader:\\n        # forward pass: compute predicted outputs by passing inputs to the model\\n        output = model(data)\\n        # calculate the loss\\n        loss = criterion(output, target)\\n        # update running validation loss\\n        valid_loss += loss.item() * data.size(0)\\n\\n    # print training/validation statistics\\n    # calculate average loss over an epoch\\n    train_loss = train_loss / len(train_loader.dataset)\\n    valid_loss = valid_loss / len(valid_loader.dataset)\\n\\n    training_loss.append(train_loss)\\n    validation_loss.append(valid_loss)\\n\\n    print(\\n        \\\"Epoch: {} \\\\tTraining Loss: {:.6f} \\\\tValidation Loss: {:.6f}\\\".format(\\n            epoch + 1, train_loss, valid_loss\\n        )\\n    )\\n\\n    # save model if validation loss has decreased\\n    if valid_loss <= valid_loss_min:\\n        print(\\n            \\\"Validation loss decreased ({:.6f} --> {:.6f}).  Saving model ...\\\".format(\\n                valid_loss_min, valid_loss\\n            )\\n        )\\n        torch.save(model.state_dict(), \\\"model.pt\\\")\\n        valid_loss_min = valid_loss\";\n",
       "                var nbb_formatted_code = \"# number of epochs to train the model\\nn_epochs = 50\\n\\n# initialize tracker for minimum validation loss\\nvalid_loss_min = np.Inf  # set initial \\\"min\\\" to infinity\\ntraining_loss, validation_loss = [], []\\nfor epoch in range(n_epochs):\\n    # monitor training loss\\n    train_loss = 0.0\\n    valid_loss = 0.0\\n\\n    ###################\\n    # train the model #\\n    ###################\\n    model.train()  # prep model for training\\n    for data, target in train_loader:\\n        # clear the gradients of all optimized variables\\n        optimizer.zero_grad()\\n        # forward pass: compute predicted outputs by passing inputs to the model\\n        output = model(data)\\n        # calculate the loss\\n        loss = criterion(output, target)\\n        # backward pass: compute gradient of the loss with respect to model parameters\\n        loss.backward()\\n        # perform a single optimization step (parameter update)\\n        optimizer.step()\\n        # update running training loss\\n        train_loss += loss.item() * data.size(0)\\n\\n    ######################\\n    # validate the model #\\n    ######################\\n    model.eval()  # prep model for evaluation\\n    for data, target in valid_loader:\\n        # forward pass: compute predicted outputs by passing inputs to the model\\n        output = model(data)\\n        # calculate the loss\\n        loss = criterion(output, target)\\n        # update running validation loss\\n        valid_loss += loss.item() * data.size(0)\\n\\n    # print training/validation statistics\\n    # calculate average loss over an epoch\\n    train_loss = train_loss / len(train_loader.dataset)\\n    valid_loss = valid_loss / len(valid_loader.dataset)\\n\\n    training_loss.append(train_loss)\\n    validation_loss.append(valid_loss)\\n\\n    print(\\n        \\\"Epoch: {} \\\\tTraining Loss: {:.6f} \\\\tValidation Loss: {:.6f}\\\".format(\\n            epoch + 1, train_loss, valid_loss\\n        )\\n    )\\n\\n    # save model if validation loss has decreased\\n    if valid_loss <= valid_loss_min:\\n        print(\\n            \\\"Validation loss decreased ({:.6f} --> {:.6f}).  Saving model ...\\\".format(\\n                valid_loss_min, valid_loss\\n            )\\n        )\\n        torch.save(model.state_dict(), \\\"model.pt\\\")\\n        valid_loss_min = valid_loss\";\n",
       "                var nbb_cells = Jupyter.notebook.get_cells();\n",
       "                for (var i = 0; i < nbb_cells.length; ++i) {\n",
       "                    if (nbb_cells[i].input_prompt_number == nbb_cell_id) {\n",
       "                        if (nbb_cells[i].get_text() == nbb_unformatted_code) {\n",
       "                             nbb_cells[i].set_text(nbb_formatted_code);\n",
       "                        }\n",
       "                        break;\n",
       "                    }\n",
       "                }\n",
       "            }, 500);\n",
       "            "
      ],
      "text/plain": [
       "<IPython.core.display.Javascript object>"
      ]
     },
     "metadata": {},
     "output_type": "display_data"
    }
   ],
   "source": [
    "# number of epochs to train the model\n",
    "n_epochs = 50\n",
    "\n",
    "# initialize tracker for minimum validation loss\n",
    "valid_loss_min = np.Inf  # set initial \"min\" to infinity\n",
    "training_loss, validation_loss = [], []\n",
    "for epoch in range(n_epochs):\n",
    "    # monitor training loss\n",
    "    train_loss = 0.0\n",
    "    valid_loss = 0.0\n",
    "\n",
    "    ###################\n",
    "    # train the model #\n",
    "    ###################\n",
    "    model.train()  # prep model for training\n",
    "    for data, target in train_loader:\n",
    "        # clear the gradients of all optimized variables\n",
    "        optimizer.zero_grad()\n",
    "        # forward pass: compute predicted outputs by passing inputs to the model\n",
    "        output = model(data)\n",
    "        # calculate the loss\n",
    "        loss = criterion(output, target)\n",
    "        # backward pass: compute gradient of the loss with respect to model parameters\n",
    "        loss.backward()\n",
    "        # perform a single optimization step (parameter update)\n",
    "        optimizer.step()\n",
    "        # update running training loss\n",
    "        train_loss += loss.item() * data.size(0)\n",
    "\n",
    "    ######################\n",
    "    # validate the model #\n",
    "    ######################\n",
    "    model.eval()  # prep model for evaluation\n",
    "    for data, target in valid_loader:\n",
    "        # forward pass: compute predicted outputs by passing inputs to the model\n",
    "        output = model(data)\n",
    "        # calculate the loss\n",
    "        loss = criterion(output, target)\n",
    "        # update running validation loss\n",
    "        valid_loss += loss.item() * data.size(0)\n",
    "\n",
    "    # print training/validation statistics\n",
    "    # calculate average loss over an epoch\n",
    "    train_loss = train_loss / len(train_loader.dataset)\n",
    "    valid_loss = valid_loss / len(valid_loader.dataset)\n",
    "\n",
    "    training_loss.append(train_loss)\n",
    "    validation_loss.append(valid_loss)\n",
    "\n",
    "    print(\n",
    "        \"Epoch: {} \\tTraining Loss: {:.6f} \\tValidation Loss: {:.6f}\".format(\n",
    "            epoch + 1, train_loss, valid_loss\n",
    "        )\n",
    "    )\n",
    "\n",
    "    # save model if validation loss has decreased\n",
    "    if valid_loss <= valid_loss_min:\n",
    "        print(\n",
    "            \"Validation loss decreased ({:.6f} --> {:.6f}).  Saving model ...\".format(\n",
    "                valid_loss_min, valid_loss\n",
    "            )\n",
    "        )\n",
    "        torch.save(model.state_dict(), \"model.pt\")\n",
    "        valid_loss_min = valid_loss"
   ]
  },
  {
   "cell_type": "code",
   "execution_count": 8,
   "metadata": {},
   "outputs": [
    {
     "data": {
      "text/plain": [
       "<matplotlib.legend.Legend at 0x130c2f450>"
      ]
     },
     "execution_count": 8,
     "metadata": {},
     "output_type": "execute_result"
    },
    {
     "data": {
      "image/png": "[encoded data removed]",
      "text/plain": [
       "<Figure size 432x288 with 1 Axes>"
      ]
     },
     "metadata": {
      "needs_background": "light"
     },
     "output_type": "display_data"
    },
    {
     "data": {
      "application/javascript": [
       "\n",
       "            setTimeout(function() {\n",
       "                var nbb_cell_id = 8;\n",
       "                var nbb_unformatted_code = \"plt.plot(training_loss, label=\\\"Train Loss\\\")\\nplt.plot(validation_loss, label=\\\"Validation Loss\\\")\\nplt.legend(frameon=False)\";\n",
       "                var nbb_formatted_code = \"plt.plot(training_loss, label=\\\"Train Loss\\\")\\nplt.plot(validation_loss, label=\\\"Validation Loss\\\")\\nplt.legend(frameon=False)\";\n",
       "                var nbb_cells = Jupyter.notebook.get_cells();\n",
       "                for (var i = 0; i < nbb_cells.length; ++i) {\n",
       "                    if (nbb_cells[i].input_prompt_number == nbb_cell_id) {\n",
       "                        if (nbb_cells[i].get_text() == nbb_unformatted_code) {\n",
       "                             nbb_cells[i].set_text(nbb_formatted_code);\n",
       "                        }\n",
       "                        break;\n",
       "                    }\n",
       "                }\n",
       "            }, 500);\n",
       "            "
      ],
      "text/plain": [
       "<IPython.core.display.Javascript object>"
      ]
     },
     "metadata": {},
     "output_type": "display_data"
    }
   ],
   "source": [
    "plt.plot(training_loss, label=\"Train Loss\")\n",
    "plt.plot(validation_loss, label=\"Validation Loss\")\n",
    "plt.legend(frameon=False)"
   ]
  },
  {
   "cell_type": "markdown",
   "metadata": {},
   "source": [
    "###  Load the Model with the Lowest Validation Loss"
   ]
  },
  {
   "cell_type": "code",
   "execution_count": 9,
   "metadata": {},
   "outputs": [
    {
     "data": {
      "text/plain": [
       "<All keys matched successfully>"
      ]
     },
     "execution_count": 9,
     "metadata": {},
     "output_type": "execute_result"
    },
    {
     "data": {
      "application/javascript": [
       "\n",
       "            setTimeout(function() {\n",
       "                var nbb_cell_id = 9;\n",
       "                var nbb_unformatted_code = \"model.load_state_dict(torch.load(\\\"model.pt\\\"))\";\n",
       "                var nbb_formatted_code = \"model.load_state_dict(torch.load(\\\"model.pt\\\"))\";\n",
       "                var nbb_cells = Jupyter.notebook.get_cells();\n",
       "                for (var i = 0; i < nbb_cells.length; ++i) {\n",
       "                    if (nbb_cells[i].input_prompt_number == nbb_cell_id) {\n",
       "                        if (nbb_cells[i].get_text() == nbb_unformatted_code) {\n",
       "                             nbb_cells[i].set_text(nbb_formatted_code);\n",
       "                        }\n",
       "                        break;\n",
       "                    }\n",
       "                }\n",
       "            }, 500);\n",
       "            "
      ],
      "text/plain": [
       "<IPython.core.display.Javascript object>"
      ]
     },
     "metadata": {},
     "output_type": "display_data"
    }
   ],
   "source": [
    "model.load_state_dict(torch.load(\"model.pt\"))"
   ]
  },
  {
   "cell_type": "markdown",
   "metadata": {},
   "source": [
    "---\n",
    "## Test the Trained Network\n",
    "\n",
    "Finally, we test our best model on previously unseen **test data** and evaluate it's performance. Testing on unseen data is a good way to check that our model generalizes well. It may also be useful to be granular in this analysis and take a look at how this model performs on each class as well as looking at its overall loss and accuracy."
   ]
  },
  {
   "cell_type": "code",
   "execution_count": 14,
   "metadata": {},
   "outputs": [
    {
     "name": "stdout",
     "output_type": "stream",
     "text": [
      "Test Loss: 0.060682\n",
      "\n",
      "Test Accuracy of     0: 99% (971/980)\n",
      "Test Accuracy of     1: 98% (1123/1135)\n",
      "Test Accuracy of     2: 98% (1014/1032)\n",
      "Test Accuracy of     3: 98% (998/1010)\n",
      "Test Accuracy of     4: 98% (965/982)\n",
      "Test Accuracy of     5: 96% (863/892)\n",
      "Test Accuracy of     6: 98% (940/958)\n",
      "Test Accuracy of     7: 96% (997/1028)\n",
      "Test Accuracy of     8: 97% (949/974)\n",
      "Test Accuracy of     9: 97% (986/1009)\n",
      "\n",
      "Test Accuracy (Overall): 98% (9806/10000)\n"
     ]
    },
    {
     "data": {
      "application/javascript": [
       "\n",
       "            setTimeout(function() {\n",
       "                var nbb_cell_id = 14;\n",
       "                var nbb_unformatted_code = \"# initialize lists to monitor test loss and accuracy\\ntest_loss = 0.0\\nclass_correct = list(0.0 for i in range(10))\\nclass_total = list(0.0 for i in range(10))\\n\\nmodel.eval()  # prep model for evaluation\\n\\nfor data, target in test_loader:\\n    # forward pass: compute predicted outputs by passing inputs to the model\\n    output = model(data)\\n    # calculate the loss\\n    loss = criterion(output, target)\\n    # update test loss\\n    test_loss += loss.item() * data.size(0)\\n    # convert output probabilities to predicted class\\n    _, pred = torch.max(output, 1)\\n    # compare predictions to true label\\n    correct = np.squeeze(pred.eq(target.data.view_as(pred)))\\n    # calculate test accuracy for each object class\\n    for i in range(len(target)):\\n        label = target.data[i]\\n        class_correct[label] += correct[i].item()\\n        class_total[label] += 1\\n\\n# calculate and print avg test loss\\ntest_loss = test_loss / len(test_loader.dataset)\\nprint(\\\"Test Loss: {:.6f}\\\\n\\\".format(test_loss))\\n\\nfor i in range(10):\\n    if class_total[i] > 0:\\n        print(\\n            \\\"Test Accuracy of %5s: %2d%% (%2d/%2d)\\\"\\n            % (\\n                str(i),\\n                100 * class_correct[i] / class_total[i],\\n                np.sum(class_correct[i]),\\n                np.sum(class_total[i]),\\n            )\\n        )\\n    else:\\n        print(\\\"Test Accuracy of %5s: N/A (no training examples)\\\" % (classes[i]))\\n\\nprint(\\n    \\\"\\\\nTest Accuracy (Overall): %2d%% (%2d/%2d)\\\"\\n    % (\\n        100.0 * np.sum(class_correct) / np.sum(class_total),\\n        np.sum(class_correct),\\n        np.sum(class_total),\\n    )\\n)\";\n",
       "                var nbb_formatted_code = \"# initialize lists to monitor test loss and accuracy\\ntest_loss = 0.0\\nclass_correct = list(0.0 for i in range(10))\\nclass_total = list(0.0 for i in range(10))\\n\\nmodel.eval()  # prep model for evaluation\\n\\nfor data, target in test_loader:\\n    # forward pass: compute predicted outputs by passing inputs to the model\\n    output = model(data)\\n    # calculate the loss\\n    loss = criterion(output, target)\\n    # update test loss\\n    test_loss += loss.item() * data.size(0)\\n    # convert output probabilities to predicted class\\n    _, pred = torch.max(output, 1)\\n    # compare predictions to true label\\n    correct = np.squeeze(pred.eq(target.data.view_as(pred)))\\n    # calculate test accuracy for each object class\\n    for i in range(len(target)):\\n        label = target.data[i]\\n        class_correct[label] += correct[i].item()\\n        class_total[label] += 1\\n\\n# calculate and print avg test loss\\ntest_loss = test_loss / len(test_loader.dataset)\\nprint(\\\"Test Loss: {:.6f}\\\\n\\\".format(test_loss))\\n\\nfor i in range(10):\\n    if class_total[i] > 0:\\n        print(\\n            \\\"Test Accuracy of %5s: %2d%% (%2d/%2d)\\\"\\n            % (\\n                str(i),\\n                100 * class_correct[i] / class_total[i],\\n                np.sum(class_correct[i]),\\n                np.sum(class_total[i]),\\n            )\\n        )\\n    else:\\n        print(\\\"Test Accuracy of %5s: N/A (no training examples)\\\" % (classes[i]))\\n\\nprint(\\n    \\\"\\\\nTest Accuracy (Overall): %2d%% (%2d/%2d)\\\"\\n    % (\\n        100.0 * np.sum(class_correct) / np.sum(class_total),\\n        np.sum(class_correct),\\n        np.sum(class_total),\\n    )\\n)\";\n",
       "                var nbb_cells = Jupyter.notebook.get_cells();\n",
       "                for (var i = 0; i < nbb_cells.length; ++i) {\n",
       "                    if (nbb_cells[i].input_prompt_number == nbb_cell_id) {\n",
       "                        if (nbb_cells[i].get_text() == nbb_unformatted_code) {\n",
       "                             nbb_cells[i].set_text(nbb_formatted_code);\n",
       "                        }\n",
       "                        break;\n",
       "                    }\n",
       "                }\n",
       "            }, 500);\n",
       "            "
      ],
      "text/plain": [
       "<IPython.core.display.Javascript object>"
      ]
     },
     "metadata": {},
     "output_type": "display_data"
    }
   ],
   "source": [
    "# initialize lists to monitor test loss and accuracy\n",
    "test_loss = 0.0\n",
    "class_correct = list(0.0 for i in range(10))\n",
    "class_total = list(0.0 for i in range(10))\n",
    "\n",
    "model.eval()  # prep model for evaluation\n",
    "\n",
    "for data, target in test_loader:\n",
    "    # forward pass: compute predicted outputs by passing inputs to the model\n",
    "    output = model(data)\n",
    "    # calculate the loss\n",
    "    loss = criterion(output, target)\n",
    "    # update test loss\n",
    "    test_loss += loss.item() * data.size(0)\n",
    "    # convert output probabilities to predicted class\n",
    "    _, pred = torch.max(output, 1)\n",
    "    # compare predictions to true label\n",
    "    correct = np.squeeze(pred.eq(target.data.view_as(pred)))\n",
    "    # calculate test accuracy for each object class\n",
    "    for i in range(len(target)):\n",
    "        label = target.data[i]\n",
    "        class_correct[label] += correct[i].item()\n",
    "        class_total[label] += 1\n",
    "\n",
    "# calculate and print avg test loss\n",
    "test_loss = test_loss / len(test_loader.dataset)\n",
    "print(\"Test Loss: {:.6f}\\n\".format(test_loss))\n",
    "\n",
    "for i in range(10):\n",
    "    if class_total[i] > 0:\n",
    "        print(\n",
    "            \"Test Accuracy of %5s: %2d%% (%2d/%2d)\"\n",
    "            % (\n",
    "                str(i),\n",
    "                100 * class_correct[i] / class_total[i],\n",
    "                np.sum(class_correct[i]),\n",
    "                np.sum(class_total[i]),\n",
    "            )\n",
    "        )\n",
    "    else:\n",
    "        print(\"Test Accuracy of %5s: N/A (no training examples)\" % (classes[i]))\n",
    "\n",
    "print(\n",
    "    \"\\nTest Accuracy (Overall): %2d%% (%2d/%2d)\"\n",
    "    % (\n",
    "        100.0 * np.sum(class_correct) / np.sum(class_total),\n",
    "        np.sum(class_correct),\n",
    "        np.sum(class_total),\n",
    "    )\n",
    ")"
   ]
  },
  {
   "cell_type": "markdown",
   "metadata": {},
   "source": [
    "### Visualize Sample Test Results\n",
    "\n",
    "This cell displays test images and their labels in this format: `predicted (ground-truth)`. The text will be green for accurately classified examples and red for incorrect predictions."
   ]
  },
  {
   "cell_type": "code",
   "execution_count": 15,
   "metadata": {},
   "outputs": [
    {
     "data": {
      "image/png": "[encoded data removed]",
      "text/plain": [
       "<Figure size 1800x288 with 20 Axes>"
      ]
     },
     "metadata": {},
     "output_type": "display_data"
    },
    {
     "data": {
      "application/javascript": [
       "\n",
       "            setTimeout(function() {\n",
       "                var nbb_cell_id = 15;\n",
       "                var nbb_unformatted_code = \"# obtain one batch of test images\\ndataiter = iter(test_loader)\\nimages, labels = dataiter.next()\\n\\n# get sample outputs\\noutput = model(images)\\n# convert output probabilities to predicted class\\n_, preds = torch.max(output, 1)\\n# prep images for display\\nimages = images.numpy()\\n\\n# plot the images in the batch, along with predicted and true labels\\nfig = plt.figure(figsize=(25, 4))\\nfor idx in np.arange(20):\\n    ax = fig.add_subplot(2, 20 / 2, idx + 1, xticks=[], yticks=[])\\n    ax.imshow(np.squeeze(images[idx]), cmap=\\\"gray\\\")\\n    ax.set_title(\\n        \\\"{} ({})\\\".format(str(preds[idx].item()), str(labels[idx].item())),\\n        color=(\\\"green\\\" if preds[idx] == labels[idx] else \\\"red\\\"),\\n    )\";\n",
       "                var nbb_formatted_code = \"# obtain one batch of test images\\ndataiter = iter(test_loader)\\nimages, labels = dataiter.next()\\n\\n# get sample outputs\\noutput = model(images)\\n# convert output probabilities to predicted class\\n_, preds = torch.max(output, 1)\\n# prep images for display\\nimages = images.numpy()\\n\\n# plot the images in the batch, along with predicted and true labels\\nfig = plt.figure(figsize=(25, 4))\\nfor idx in np.arange(20):\\n    ax = fig.add_subplot(2, 20 / 2, idx + 1, xticks=[], yticks=[])\\n    ax.imshow(np.squeeze(images[idx]), cmap=\\\"gray\\\")\\n    ax.set_title(\\n        \\\"{} ({})\\\".format(str(preds[idx].item()), str(labels[idx].item())),\\n        color=(\\\"green\\\" if preds[idx] == labels[idx] else \\\"red\\\"),\\n    )\";\n",
       "                var nbb_cells = Jupyter.notebook.get_cells();\n",
       "                for (var i = 0; i < nbb_cells.length; ++i) {\n",
       "                    if (nbb_cells[i].input_prompt_number == nbb_cell_id) {\n",
       "                        if (nbb_cells[i].get_text() == nbb_unformatted_code) {\n",
       "                             nbb_cells[i].set_text(nbb_formatted_code);\n",
       "                        }\n",
       "                        break;\n",
       "                    }\n",
       "                }\n",
       "            }, 500);\n",
       "            "
      ],
      "text/plain": [
       "<IPython.core.display.Javascript object>"
      ]
     },
     "metadata": {},
     "output_type": "display_data"
    }
   ],
   "source": [
    "# obtain one batch of test images\n",
    "dataiter = iter(test_loader)\n",
    "images, labels = dataiter.next()\n",
    "\n",
    "# get sample outputs\n",
    "output = model(images)\n",
    "# convert output probabilities to predicted class\n",
    "_, preds = torch.max(output, 1)\n",
    "# prep images for display\n",
    "images = images.numpy()\n",
    "\n",
    "# plot the images in the batch, along with predicted and true labels\n",
    "fig = plt.figure(figsize=(25, 4))\n",
    "for idx in np.arange(20):\n",
    "    ax = fig.add_subplot(2, 20 / 2, idx + 1, xticks=[], yticks=[])\n",
    "    ax.imshow(np.squeeze(images[idx]), cmap=\"gray\")\n",
    "    ax.set_title(\n",
    "        \"{} ({})\".format(str(preds[idx].item()), str(labels[idx].item())),\n",
    "        color=(\"green\" if preds[idx] == labels[idx] else \"red\"),\n",
    "    )"
   ]
  },
  {
   "cell_type": "code",
   "execution_count": null,
   "metadata": {},
   "outputs": [],
   "source": []
  }
 ],
 "metadata": {
  "anaconda-cloud": {},
  "kernelspec": {
   "display_name": "Python 3",
   "language": "python",
   "name": "python3"
  },
  "language_info": {
   "codemirror_mode": {
    "name": "ipython",
    "version": 3
   },
   "file_extension": ".py",
   "mimetype": "text/x-python",
   "name": "python",
   "nbconvert_exporter": "python",
   "pygments_lexer": "ipython3",
   "version": "3.7.6"
  }
 },
 "nbformat": 4,
 "nbformat_minor": 2
}
